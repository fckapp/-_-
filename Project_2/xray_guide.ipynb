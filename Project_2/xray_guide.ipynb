{
 "cells": [
  {
   "cell_type": "code",
   "execution_count": 1,
   "metadata": {},
   "outputs": [],
   "source": [
    "# 보내드린 파일의 압축을 해제하시면 2개의 폴더 \"test1\"와 \"OpenLabeling-master\"가 나옵니다.\n",
    "# 이 두 폴더를 다 로컬 디스크 (C:)로 옮기시고 진행하시면 됩니다."
   ]
  },
  {
   "cell_type": "code",
   "execution_count": 1,
   "metadata": {},
   "outputs": [
    {
     "data": {
      "text/plain": [
       "'C:\\\\KP'"
      ]
     },
     "execution_count": 1,
     "metadata": {},
     "output_type": "execute_result"
    }
   ],
   "source": [
    "pwd #현재경로확인"
   ]
  },
  {
   "cell_type": "markdown",
   "metadata": {},
   "source": [
    "# [단계 ①] 라이브러리/데이터 불러오기"
   ]
  },
  {
   "cell_type": "code",
   "execution_count": 2,
   "metadata": {},
   "outputs": [],
   "source": [
    "# 별도 코드 없음\n",
    "# □ CUDA 설치"
   ]
  },
  {
   "cell_type": "code",
   "execution_count": 4,
   "metadata": {},
   "outputs": [
    {
     "name": "stdout",
     "output_type": "stream",
     "text": [
      "Requirement already satisfied: opencv-python in c:\\programdata\\anaconda3\\lib\\site-packages (4.4.0.46)\n",
      "Requirement already satisfied: numpy>=1.17.3 in c:\\programdata\\anaconda3\\lib\\site-packages (from opencv-python) (1.19.2)\n"
     ]
    }
   ],
   "source": [
    "# □ opencv-python 설치\n",
    "!pip install opencv-python"
   ]
  },
  {
   "cell_type": "code",
   "execution_count": 5,
   "metadata": {},
   "outputs": [
    {
     "name": "stdout",
     "output_type": "stream",
     "text": [
      "Collecting package metadata (current_repodata.json): ...working... done\n",
      "Solving environment: ...working... failed with initial frozen solve. Retrying with flexible solve.\n",
      "Collecting package metadata (repodata.json): ...working... done\n",
      "Solving environment: ...working... failed with initial frozen solve. Retrying with flexible solve.\n"
     ]
    },
    {
     "name": "stderr",
     "output_type": "stream",
     "text": [
      "\n",
      "PackagesNotFoundError: The following packages are not available from current channels:\n",
      "\n",
      "  - ?c\n",
      "  - torchaudio\n",
      "  - torchvision\n",
      "\n",
      "Current channels:\n",
      "\n",
      "  - https://repo.anaconda.com/pkgs/main/win-64\n",
      "  - https://repo.anaconda.com/pkgs/main/noarch\n",
      "  - https://repo.anaconda.com/pkgs/r/win-64\n",
      "  - https://repo.anaconda.com/pkgs/r/noarch\n",
      "  - https://repo.anaconda.com/pkgs/msys2/win-64\n",
      "  - https://repo.anaconda.com/pkgs/msys2/noarch\n",
      "\n",
      "To search for alternate channels that may provide the conda package you're\n",
      "looking for, navigate to\n",
      "\n",
      "    https://anaconda.org\n",
      "\n",
      "and use the search bar at the top of the page.\n",
      "\n",
      "\n"
     ]
    }
   ],
   "source": [
    "# □ pytorch 설치 (둘중 하나로 진행)\n",
    "!conda install pytorch torchvision torchaudio cudatoolkit=10.2 –c pytorch"
   ]
  },
  {
   "cell_type": "code",
   "execution_count": 6,
   "metadata": {},
   "outputs": [
    {
     "name": "stdout",
     "output_type": "stream",
     "text": [
      "Looking in links: https://download.pytorch.org/whl/torch_stable.html\n",
      "Requirement already satisfied: torch===1.7.0 in c:\\programdata\\anaconda3\\lib\\site-packages (1.7.0)\n",
      "Requirement already satisfied: torchvision===0.8.1 in c:\\programdata\\anaconda3\\lib\\site-packages (0.8.1)\n",
      "Requirement already satisfied: torchaudio===0.7.0 in c:\\programdata\\anaconda3\\lib\\site-packages (0.7.0)\n",
      "Requirement already satisfied: numpy in c:\\programdata\\anaconda3\\lib\\site-packages (from torch===1.7.0) (1.19.2)\n",
      "Requirement already satisfied: future in c:\\programdata\\anaconda3\\lib\\site-packages (from torch===1.7.0) (0.18.2)\n",
      "Requirement already satisfied: typing-extensions in c:\\programdata\\anaconda3\\lib\\site-packages (from torch===1.7.0) (3.7.4.3)\n",
      "Requirement already satisfied: dataclasses in c:\\programdata\\anaconda3\\lib\\site-packages (from torch===1.7.0) (0.6)\n",
      "Requirement already satisfied: pillow>=4.1.1 in c:\\programdata\\anaconda3\\lib\\site-packages (from torchvision===0.8.1) (8.0.1)\n"
     ]
    }
   ],
   "source": [
    "# 위로 안되면 아래 방법으로\n",
    "!pip install torch===1.7.0 torchvision===0.8.1 torchaudio===0.7.0 -f https://download.pytorch.org/whl/torch_stable.html"
   ]
  },
  {
   "cell_type": "code",
   "execution_count": 7,
   "metadata": {},
   "outputs": [
    {
     "name": "stdout",
     "output_type": "stream",
     "text": [
      "Requirement already satisfied: pillow in c:\\programdata\\anaconda3\\lib\\site-packages (8.0.1)\n"
     ]
    }
   ],
   "source": [
    "# □ pillow 설치\n",
    "!pip install pillow"
   ]
  },
  {
   "cell_type": "markdown",
   "metadata": {},
   "source": [
    "# [단계 ②] 데이터 종류 및 개수 확인"
   ]
  },
  {
   "cell_type": "code",
   "execution_count": 3,
   "metadata": {},
   "outputs": [],
   "source": [
    "from PIL import Image\n",
    "import matplotlib.pylab as plt"
   ]
  },
  {
   "cell_type": "code",
   "execution_count": 4,
   "metadata": {
    "scrolled": false
   },
   "outputs": [
    {
     "data": {
      "image/png": "[encoded data removed]",
      "text/plain": [
       "<Figure size 432x288 with 1 Axes>"
      ]
     },
     "metadata": {
      "needs_background": "light"
     },
     "output_type": "display_data"
    }
   ],
   "source": [
    "# 원본 데이터 이미지 확인\n",
    "i = Image.open('C:/test1/yolov3/X선이물검출기(06.23_09.22)/1호기(2020.09.22)/SN77128_20200622_NgImage/002_20200622_203053(2).bmp')\n",
    "\n",
    "plt.imshow(i)\n",
    "plt.show()"
   ]
  },
  {
   "cell_type": "code",
   "execution_count": 5,
   "metadata": {},
   "outputs": [],
   "source": [
    "# Anaconda Prompt 실행\n",
    "# \"cd ..\"을 반복 하여 \"(base) C:\\>\" 이 상태로 디렉토리 초기화 이후\n",
    "# \"jupyter notebook\" 입력(같은 경로인 로컬 디스크 (C:)에 보내드린 파일들이 있도록 옮겨놓으셔야 합니다.)\n",
    "# 이 과정을 마치면 분석에 쓰이는 모든 데이터, 파일, 파이썬 코드들이 있는 디렉토리로 설정되는 것입니다."
   ]
  },
  {
   "cell_type": "markdown",
   "metadata": {},
   "source": [
    "# 이미지 재정리 (코드로 직접 입력)"
   ]
  },
  {
   "cell_type": "code",
   "execution_count": 7,
   "metadata": {},
   "outputs": [
    {
     "name": "stdout",
     "output_type": "stream",
     "text": [
      "C:\\test1\\yolov3\\images\n"
     ]
    }
   ],
   "source": [
    "# 디렉토리 경로 설정\n",
    "%cd C:/test1/yolov3/images\n",
    "!ren *.* *.jpg*"
   ]
  },
  {
   "cell_type": "code",
   "execution_count": 9,
   "metadata": {},
   "outputs": [],
   "source": [
    "# Raw Image에서 재정리합니다\n",
    "import os \n",
    "import shutil\n",
    "\n",
    "image_dir = \"C:/test1/yolov3/X선이물검출기(06.23_09.22)\" # img_dir 저장된 위치에 맞게 변환\n",
    "file= os.listdir(image_dir)\n",
    "\n",
    "os.mkdir(\"C:/test1/yolov3/X선이물검출기\")\n",
    "\n",
    "for i in range(len(file)):\n",
    "  os.mkdir(\"C:/test1/yolov3/X선이물검출기\" + \"/\"+ str(i+1) + \"호기\") # 저장할 주소에 맞게 변환\n",
    "\n",
    "for a in file:\n",
    "  path = image_dir +\"/\"+ a\n",
    "  file2 = os.listdir(path) \n",
    "  for b in file2:\n",
    "    if(b[17:]==\"NgImage\"):\n",
    "      path2 = path+\"/\"+b\n",
    "      file3 = os.listdir(path2)\n",
    "      for c in file3:\n",
    "        shutil.copy(path2+\"/\"+c, \"C:/test1/yolov3/X선이물검출기\"+\"/\"+a[0]+\"호기\")"
   ]
  },
  {
   "cell_type": "code",
   "execution_count": 13,
   "metadata": {},
   "outputs": [],
   "source": [
    "# 위 작업을 거치면 yolov3폴더에 \"X선이물검출기\"라는 폴더가 생기며 원본 데이터들이 호기별로 정리돼 있습니다."
   ]
  },
  {
   "cell_type": "code",
   "execution_count": 10,
   "metadata": {},
   "outputs": [
    {
     "data": {
      "image/png": "[encoded data removed]",
      "text/plain": [
       "<Figure size 432x288 with 1 Axes>"
      ]
     },
     "metadata": {
      "needs_background": "light"
     },
     "output_type": "display_data"
    }
   ],
   "source": [
    "im = Image.open('C:/test1/yolov3/X선이물검출기/1호기/002_20200622_203053(2).bmp')\n",
    "\n",
    "plt.imshow(im)\n",
    "plt.show()"
   ]
  },
  {
   "cell_type": "markdown",
   "metadata": {},
   "source": [
    "# [단계 ③] 데이터 정제(전처리) (코드로 직접 입력)"
   ]
  },
  {
   "cell_type": "code",
   "execution_count": 11,
   "metadata": {
    "scrolled": true
   },
   "outputs": [
    {
     "name": "stdout",
     "output_type": "stream",
     "text": [
      "-> Please ignore this error message\n",
      "\n",
      "Showing image 0/14, path: input\\001_20200622_203312(6).bmp\n",
      "Welcome!\n",
      " Press [h] for help.\n"
     ]
    }
   ],
   "source": [
    "# labeling tool을 실행합니다.\n",
    "# (로컬디스크 C에 Labeling tool폴더를 옮겨놓으셔야 합니다.)\n",
    "# \"C:/OpenLabeling-master\\main\\input\"경로에 라벨링할 이미지들을 옮겨 놓습니다.\n",
    "!python C:/OpenLabeling-master/main/main.py"
   ]
  },
  {
   "cell_type": "code",
   "execution_count": 16,
   "metadata": {},
   "outputs": [],
   "source": [
    "# prompt 에서 \"python C:/OpenLabeling-master/main/main.py\"\n",
    "# 를 그대로 입력하여도 실행됩니다."
   ]
  },
  {
   "cell_type": "markdown",
   "metadata": {},
   "source": [
    "### ■ Labeling tool 컨트롤 키 "
   ]
  },
  {
   "cell_type": "markdown",
   "metadata": {},
   "source": [
    "##### D: 다음 그림으로 이동한다\n",
    "##### A: 이전 그림으로 이동한다\n",
    "##### S: 다른 클래스로 변경한다 (다른 클래스로 라벨링)\n",
    "##### Q: 프로그램을 종료한다\n",
    "##### (마우스 우클릭): 라벨링을 제거한다"
   ]
  },
  {
   "cell_type": "code",
   "execution_count": 17,
   "metadata": {},
   "outputs": [],
   "source": [
    "# Labeling tool의 결과물인 좌표 텍스트 파일은 \n",
    "# C:/OpenLabeling-master/main/output/YOLO_darknet 경로에 저장 됩니다.\n",
    "# 이미지와 텍스트 파일을 각각 yolov3 폴더의 “images”, “labels”폴더로 각각 옮깁니다."
   ]
  },
  {
   "cell_type": "markdown",
   "metadata": {},
   "source": [
    "# [단계 ④] 데이터 특성 파악"
   ]
  },
  {
   "cell_type": "code",
   "execution_count": 18,
   "metadata": {},
   "outputs": [],
   "source": [
    "# 별도 코드 없음"
   ]
  },
  {
   "cell_type": "markdown",
   "metadata": {},
   "source": [
    "# [단계 ⑤] 학습/평가 데이터 분리 (코드로 직접 입력)"
   ]
  },
  {
   "cell_type": "markdown",
   "metadata": {},
   "source": [
    "# 데이터 분리"
   ]
  },
  {
   "cell_type": "code",
   "execution_count": 12,
   "metadata": {},
   "outputs": [
    {
     "name": "stdout",
     "output_type": "stream",
     "text": [
      "C:\\test1\\yolov3\n"
     ]
    }
   ],
   "source": [
    "%cd C:/test1/yolov3"
   ]
  },
  {
   "cell_type": "code",
   "execution_count": 13,
   "metadata": {},
   "outputs": [],
   "source": [
    "import random\n",
    "import os\n",
    "import subprocess\n",
    "import sys\n",
    "\n",
    "def split_data_set(image_dir):\n",
    "\n",
    "    f_val = open(\"test.txt\", 'w')\n",
    "    f_train = open(\"train.txt\", 'w')\n",
    "    \n",
    "    path, dirs, files = next(os.walk(image_dir))\n",
    "    data_size = len(files)\n",
    "\n",
    "    ind = 0\n",
    "    data_test_size = int(0.2 * data_size)\n",
    "    test_array = random.sample(range(data_size), k=data_test_size)\n",
    "    \n",
    "    for f in os.listdir(image_dir):\n",
    "        if(f.split(\".jp\")[1] == \"g\"):\n",
    "            ind += 1\n",
    "            \n",
    "            if ind in test_array:\n",
    "                f_val.write(image_dir+'/'+f+'\\n')\n",
    "            else:\n",
    "                f_train.write(image_dir+'/'+f+'\\n')"
   ]
  },
  {
   "cell_type": "code",
   "execution_count": 14,
   "metadata": {},
   "outputs": [],
   "source": [
    "image_dir=\"C:/test1/yolov3/images\""
   ]
  },
  {
   "cell_type": "code",
   "execution_count": 15,
   "metadata": {},
   "outputs": [],
   "source": [
    "split_data_set(image_dir)"
   ]
  },
  {
   "cell_type": "code",
   "execution_count": 23,
   "metadata": {},
   "outputs": [],
   "source": [
    "#결과로 현재 디렉토리인 \"C:/test1/yolov3/\"에 \"test.txt\"와 \"train.txt\"가 나뉘어져 있으며 폴터를 확인하시면 가능합니다."
   ]
  },
  {
   "cell_type": "code",
   "execution_count": 24,
   "metadata": {},
   "outputs": [],
   "source": [
    "# 또는 다음과 같이 실행할 수 있습니다. 결과는 동일합니다."
   ]
  },
  {
   "cell_type": "code",
   "execution_count": 25,
   "metadata": {
    "scrolled": true
   },
   "outputs": [],
   "source": [
    "!python splitdata.py images"
   ]
  },
  {
   "cell_type": "code",
   "execution_count": 26,
   "metadata": {},
   "outputs": [],
   "source": [
    "# prompt 에서 \"python splitdata.py images\"입력하셔도 동일하게 됩니다"
   ]
  },
  {
   "cell_type": "markdown",
   "metadata": {},
   "source": [
    "# [단계 ⑥] 모델 구축 (파이썬 파일 바로 실행하도록 입력)"
   ]
  },
  {
   "cell_type": "code",
   "execution_count": 27,
   "metadata": {},
   "outputs": [],
   "source": [
    "# prompt 에서 \n",
    "# \"pip install -r requirments.txt\"입력 (추가 필요 모듈 설치)"
   ]
  },
  {
   "cell_type": "code",
   "execution_count": 28,
   "metadata": {
    "scrolled": true
   },
   "outputs": [
    {
     "name": "stdout",
     "output_type": "stream",
     "text": [
      "Requirement already satisfied: Cython in c:\\programdata\\anaconda3\\lib\\site-packages (from -r requirements.txt (line 4)) (0.29.21)\n",
      "Requirement already satisfied: matplotlib>=3.2.2 in c:\\programdata\\anaconda3\\lib\\site-packages (from -r requirements.txt (line 5)) (3.3.2)\n",
      "Requirement already satisfied: numpy>=1.18.5 in c:\\programdata\\anaconda3\\lib\\site-packages (from -r requirements.txt (line 6)) (1.19.2)\n",
      "Requirement already satisfied: opencv-python>=4.1.2 in c:\\programdata\\anaconda3\\lib\\site-packages (from -r requirements.txt (line 7)) (4.4.0.46)\n",
      "Requirement already satisfied: pillow in c:\\programdata\\anaconda3\\lib\\site-packages (from -r requirements.txt (line 8)) (8.0.1)\n",
      "Requirement already satisfied: PyYAML>=5.3 in c:\\programdata\\anaconda3\\lib\\site-packages (from -r requirements.txt (line 9)) (5.3.1)\n",
      "Requirement already satisfied: scipy>=1.4.1 in c:\\programdata\\anaconda3\\lib\\site-packages (from -r requirements.txt (line 10)) (1.5.2)\n",
      "Requirement already satisfied: tensorboard>=2.2 in c:\\programdata\\anaconda3\\lib\\site-packages (from -r requirements.txt (line 11)) (2.4.0)\n",
      "Requirement already satisfied: torch>=1.6.0 in c:\\programdata\\anaconda3\\lib\\site-packages (from -r requirements.txt (line 12)) (1.7.0)\n",
      "Requirement already satisfied: torchvision>=0.7.0 in c:\\programdata\\anaconda3\\lib\\site-packages (from -r requirements.txt (line 13)) (0.8.1)\n",
      "Requirement already satisfied: tqdm>=4.41.0 in c:\\programdata\\anaconda3\\lib\\site-packages (from -r requirements.txt (line 14)) (4.50.2)\n",
      "Requirement already satisfied: python-dateutil>=2.1 in c:\\programdata\\anaconda3\\lib\\site-packages (from matplotlib>=3.2.2->-r requirements.txt (line 5)) (2.8.1)\n",
      "Requirement already satisfied: pyparsing!=2.0.4,!=2.1.2,!=2.1.6,>=2.0.3 in c:\\programdata\\anaconda3\\lib\\site-packages (from matplotlib>=3.2.2->-r requirements.txt (line 5)) (2.4.7)\n",
      "Requirement already satisfied: kiwisolver>=1.0.1 in c:\\programdata\\anaconda3\\lib\\site-packages (from matplotlib>=3.2.2->-r requirements.txt (line 5)) (1.3.0)\n",
      "Requirement already satisfied: certifi>=2020.06.20 in c:\\programdata\\anaconda3\\lib\\site-packages (from matplotlib>=3.2.2->-r requirements.txt (line 5)) (2020.6.20)\n",
      "Requirement already satisfied: cycler>=0.10 in c:\\programdata\\anaconda3\\lib\\site-packages (from matplotlib>=3.2.2->-r requirements.txt (line 5)) (0.10.0)\n",
      "Requirement already satisfied: markdown>=2.6.8 in c:\\programdata\\anaconda3\\lib\\site-packages (from tensorboard>=2.2->-r requirements.txt (line 11)) (3.3.3)\n",
      "Requirement already satisfied: six>=1.10.0 in c:\\programdata\\anaconda3\\lib\\site-packages (from tensorboard>=2.2->-r requirements.txt (line 11)) (1.15.0)\n",
      "Requirement already satisfied: tensorboard-plugin-wit>=1.6.0 in c:\\programdata\\anaconda3\\lib\\site-packages (from tensorboard>=2.2->-r requirements.txt (line 11)) (1.7.0)\n",
      "Requirement already satisfied: protobuf>=3.6.0 in c:\\programdata\\anaconda3\\lib\\site-packages (from tensorboard>=2.2->-r requirements.txt (line 11)) (3.14.0)\n",
      "Requirement already satisfied: werkzeug>=0.11.15 in c:\\programdata\\anaconda3\\lib\\site-packages (from tensorboard>=2.2->-r requirements.txt (line 11)) (1.0.1)\n",
      "Requirement already satisfied: absl-py>=0.4 in c:\\programdata\\anaconda3\\lib\\site-packages (from tensorboard>=2.2->-r requirements.txt (line 11)) (0.11.0)\n",
      "Requirement already satisfied: google-auth-oauthlib<0.5,>=0.4.1 in c:\\programdata\\anaconda3\\lib\\site-packages (from tensorboard>=2.2->-r requirements.txt (line 11)) (0.4.2)\n",
      "Requirement already satisfied: wheel>=0.26; python_version >= \"3\" in c:\\programdata\\anaconda3\\lib\\site-packages (from tensorboard>=2.2->-r requirements.txt (line 11)) (0.35.1)\n",
      "Requirement already satisfied: requests<3,>=2.21.0 in c:\\programdata\\anaconda3\\lib\\site-packages (from tensorboard>=2.2->-r requirements.txt (line 11)) (2.24.0)\n",
      "Requirement already satisfied: google-auth<2,>=1.6.3 in c:\\programdata\\anaconda3\\lib\\site-packages (from tensorboard>=2.2->-r requirements.txt (line 11)) (1.24.0)\n",
      "Requirement already satisfied: setuptools>=41.0.0 in c:\\programdata\\anaconda3\\lib\\site-packages (from tensorboard>=2.2->-r requirements.txt (line 11)) (50.3.1.post20201107)\n",
      "Requirement already satisfied: grpcio>=1.24.3 in c:\\programdata\\anaconda3\\lib\\site-packages (from tensorboard>=2.2->-r requirements.txt (line 11)) (1.32.0)\n",
      "Requirement already satisfied: future in c:\\programdata\\anaconda3\\lib\\site-packages (from torch>=1.6.0->-r requirements.txt (line 12)) (0.18.2)\n",
      "Requirement already satisfied: dataclasses in c:\\programdata\\anaconda3\\lib\\site-packages (from torch>=1.6.0->-r requirements.txt (line 12)) (0.6)\n",
      "Requirement already satisfied: typing-extensions in c:\\programdata\\anaconda3\\lib\\site-packages (from torch>=1.6.0->-r requirements.txt (line 12)) (3.7.4.3)\n",
      "Requirement already satisfied: requests-oauthlib>=0.7.0 in c:\\programdata\\anaconda3\\lib\\site-packages (from google-auth-oauthlib<0.5,>=0.4.1->tensorboard>=2.2->-r requirements.txt (line 11)) (1.3.0)\n",
      "Requirement already satisfied: idna<3,>=2.5 in c:\\programdata\\anaconda3\\lib\\site-packages (from requests<3,>=2.21.0->tensorboard>=2.2->-r requirements.txt (line 11)) (2.10)\n",
      "Requirement already satisfied: chardet<4,>=3.0.2 in c:\\programdata\\anaconda3\\lib\\site-packages (from requests<3,>=2.21.0->tensorboard>=2.2->-r requirements.txt (line 11)) (3.0.4)\n",
      "Requirement already satisfied: urllib3!=1.25.0,!=1.25.1,<1.26,>=1.21.1 in c:\\programdata\\anaconda3\\lib\\site-packages (from requests<3,>=2.21.0->tensorboard>=2.2->-r requirements.txt (line 11)) (1.25.11)\n",
      "Requirement already satisfied: pyasn1-modules>=0.2.1 in c:\\programdata\\anaconda3\\lib\\site-packages (from google-auth<2,>=1.6.3->tensorboard>=2.2->-r requirements.txt (line 11)) (0.2.8)\n",
      "Requirement already satisfied: rsa<5,>=3.1.4; python_version >= \"3.6\" in c:\\programdata\\anaconda3\\lib\\site-packages (from google-auth<2,>=1.6.3->tensorboard>=2.2->-r requirements.txt (line 11)) (4.6)\n",
      "Requirement already satisfied: cachetools<5.0,>=2.0.0 in c:\\programdata\\anaconda3\\lib\\site-packages (from google-auth<2,>=1.6.3->tensorboard>=2.2->-r requirements.txt (line 11)) (4.2.0)\n",
      "Requirement already satisfied: oauthlib>=3.0.0 in c:\\programdata\\anaconda3\\lib\\site-packages (from requests-oauthlib>=0.7.0->google-auth-oauthlib<0.5,>=0.4.1->tensorboard>=2.2->-r requirements.txt (line 11)) (3.1.0)\n",
      "Requirement already satisfied: pyasn1<0.5.0,>=0.4.6 in c:\\programdata\\anaconda3\\lib\\site-packages (from pyasn1-modules>=0.2.1->google-auth<2,>=1.6.3->tensorboard>=2.2->-r requirements.txt (line 11)) (0.4.8)\n"
     ]
    }
   ],
   "source": [
    "!pip install -r requirements.txt"
   ]
  },
  {
   "cell_type": "code",
   "execution_count": 29,
   "metadata": {},
   "outputs": [],
   "source": [
    "# ■ 파이썬 코드 및 다른 파일 수정을 위해서는 \n",
    "# jupyter notebook을 실행하시고 파일을 찾아서 바로 클릭하셔서 수정하시면 됩니다.\n",
    "# 추가적으로 는 서브라임 텍스트(https://www.sublimetext.com/)도 가볍고 간단하여 추천 드리나, 다른 것 사용하셔도 상관 없습니다.\n",
    "# 서브라임 텍스트를 설치하고 파이썬이나 다른 파일들을 드래그 하시기만 하면 됩니다.\n",
    "# 더 간단한 방법으로는 메모장으로 열기로도 가능하지만 조금 깨지는 현상이 있습니다.\n",
    "\n",
    "# 다른 Task를 위해 필요에 따라 수정해야하는 파일들 (현재 객체 탐지를 위해서는 따로 수정하지 않아도 됩니다.)\n",
    "# custom.data\n",
    "# classes.names\n",
    "# yolo-spp.cfg"
   ]
  },
  {
   "cell_type": "markdown",
   "metadata": {},
   "source": [
    "# [단계 ⑦] 모델 훈련 (파이썬 파일 바로 실행하도록 입력)"
   ]
  },
  {
   "cell_type": "code",
   "execution_count": 30,
   "metadata": {},
   "outputs": [],
   "source": [
    "# prompt 에서 \n",
    "# python train.py --epochs 150 --batch-size 5 --weights weights/last.pt --cfg yolov3-spp.cfg --data custom.data —nosave\n",
    "# 그대로 입력하시면 됩니다\n",
    "\n",
    "# Train 부분은 Anaconda prompt로 진행하시기를 추천 드립니다."
   ]
  },
  {
   "cell_type": "code",
   "execution_count": 31,
   "metadata": {},
   "outputs": [],
   "source": [
    "# 모델 training 이때 weight file은 맨 마지막 epoch에 돌았던 것만 last.pt에 저장된다. \n",
    "\n",
    "# 아래 코드 가장 우측에 \"\"--device cpu\"은 CPU 환경에서 실행하도록 한 것이다. \n",
    "# GPU 사용 시 코드에서 “--device cpu”부분을 지우면 된다."
   ]
  },
  {
   "cell_type": "code",
   "execution_count": null,
   "metadata": {
    "scrolled": false
   },
   "outputs": [],
   "source": [
    "!python train.py --epochs 15 --weights weights/last.pt --batch-size 3  --cfg yolov3-spp.cfg --data custom.data --nosave --device cpu"
   ]
  },
  {
   "cell_type": "markdown",
   "metadata": {},
   "source": [
    "# [단계 ⑧] 결과 분석 및 해석 (파이썬 파일 바로 실행하도록 입력)"
   ]
  },
  {
   "cell_type": "code",
   "execution_count": 33,
   "metadata": {},
   "outputs": [],
   "source": [
    "# prompt 에서 \n",
    "# python detect.py --weights weights/last.pt --source images1 --cfg yolov3-spp.cfg --names classes.names —output result\n",
    "# python test.py --cfg yolov3-spp.cfg --data custom.data --weights weights/last.pt "
   ]
  },
  {
   "cell_type": "code",
   "execution_count": null,
   "metadata": {},
   "outputs": [],
   "source": [
    " !python detect.py --weights weights/last.pt --source images --cfg yolov3-spp.cfg --names classes.names --output result --device cpu\n",
    "# GPU 사용 시 코드에서 “--device cpu”부분을 지우면 된다."
   ]
  },
  {
   "cell_type": "code",
   "execution_count": 35,
   "metadata": {},
   "outputs": [],
   "source": [
    "#result라는 폴더안에 결과 출력 "
   ]
  },
  {
   "cell_type": "code",
   "execution_count": 36,
   "metadata": {
    "scrolled": false
   },
   "outputs": [
    {
     "name": "stdout",
     "output_type": "stream",
     "text": [
      "Namespace(augment=False, batch_size=3, cfg='yolov3-spp.cfg', conf_thres=0.001, data='custom.data', device='', img_size=512, iou_thres=0.6, save_json=False, single_cls=False, task='test', weights='weights/last.pt')\n",
      "Using CUDA device0 _CudaDeviceProperties(name='GeForce RTX 3080', total_memory=10240MB)\n",
      "\n",
      "Model Summary: 225 layers, 6.25733e+07 parameters, 6.25733e+07 gradients\n",
      "Fusing layers...\n",
      "Model Summary: 152 layers, 6.25465e+07 parameters, 6.25465e+07 gradients\n",
      "                 all       100       234         0         0         0         0\n",
      "Speed: 7.0/710.0/717.0 ms inference/NMS/total per 512x512 image at batch-size 3\n"
     ]
    },
    {
     "name": "stderr",
     "output_type": "stream",
     "text": [
      "C:\\ProgramData\\Anaconda3\\lib\\site-packages\\torch\\cuda\\__init__.py:104: UserWarning: \n",
      "GeForce RTX 3080 with CUDA capability sm_86 is not compatible with the current PyTorch installation.\n",
      "The current PyTorch install supports CUDA capabilities sm_37 sm_50 sm_60 sm_61 sm_70 sm_75 compute_37.\n",
      "If you want to use the GeForce RTX 3080 GPU with PyTorch, please check the instructions at https://pytorch.org/get-started/locally/\n",
      "\n",
      "  warnings.warn(incompatible_device_warn.format(device_name, capability, \" \".join(arch_list), device_name))\n",
      "\n",
      "  0%|          | 0/100 [00:00<?, ?it/s]\n",
      "Caching labels C:\\test1\\yolov3\\test.txt (100 found, 0 missing, 0 empty, 0 duplicate, for 100 images): 100%|##########| 100/100 [00:00<00:00, 5898.17it/s]\n",
      "\n",
      "               Class    Images   Targets         P         R   mAP@0.5        F1:   0%|          | 0/34 [00:00<?, ?it/s]test.py:148: UserWarning: This overload of nonzero is deprecated:\n",
      "\tnonzero()\n",
      "Consider using one of the following signatures instead:\n",
      "\tnonzero(*, bool as_tuple) (Triggered internally at  ..\\torch\\csrc\\utils\\python_arg_parser.cpp:882.)\n",
      "  ti = (cls == tcls_tensor).nonzero().view(-1)  # target indices\n",
      "\n",
      "               Class    Images   Targets         P         R   mAP@0.5        F1:   3%|2         | 1/34 [00:03<01:58,  3.58s/it]\n",
      "               Class    Images   Targets         P         R   mAP@0.5        F1:   6%|5         | 2/34 [01:13<12:33, 23.55s/it]\n",
      "               Class    Images   Targets         P         R   mAP@0.5        F1:  18%|#7        | 6/34 [01:13<07:41, 16.49s/it]\n",
      "               Class    Images   Targets         P         R   mAP@0.5        F1:  29%|##9       | 10/34 [01:13<04:37, 11.55s/it]\n",
      "               Class    Images   Targets         P         R   mAP@0.5        F1:  41%|####1     | 14/34 [01:14<02:41,  8.10s/it]\n",
      "               Class    Images   Targets         P         R   mAP@0.5        F1:  53%|#####2    | 18/34 [01:14<01:30,  5.67s/it]\n",
      "               Class    Images   Targets         P         R   mAP@0.5        F1:  68%|######7   | 23/34 [01:14<00:43,  3.98s/it]\n",
      "               Class    Images   Targets         P         R   mAP@0.5        F1:  82%|########2 | 28/34 [01:14<00:16,  2.79s/it]\n",
      "               Class    Images   Targets         P         R   mAP@0.5        F1:  97%|#########7| 33/34 [01:14<00:01,  1.96s/it]\n",
      "               Class    Images   Targets         P         R   mAP@0.5        F1: 100%|##########| 34/34 [01:14<00:00,  2.20s/it]\n"
     ]
    }
   ],
   "source": [
    "!python test.py --cfg yolov3-spp.cfg --batch-size 3 --data custom.data --weights weights/last.pt --device cpu\n",
    "# GPU 사용 시 코드에서 “--device cpu”부분을 지우면 된다."
   ]
  },
  {
   "cell_type": "code",
   "execution_count": null,
   "metadata": {},
   "outputs": [],
   "source": []
  }
 ],
 "metadata": {
  "kernelspec": {
   "display_name": "Python 3",
   "language": "python",
   "name": "python3"
  },
  "language_info": {
   "codemirror_mode": {
    "name": "ipython",
    "version": 3
   },
   "file_extension": ".py",
   "mimetype": "text/x-python",
   "name": "python",
   "nbconvert_exporter": "python",
   "pygments_lexer": "ipython3",
   "version": "3.7.3"
  }
 },
 "nbformat": 4,
 "nbformat_minor": 2
}
